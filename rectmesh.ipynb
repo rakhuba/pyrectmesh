{
 "metadata": {
  "name": "",
  "signature": "sha256:5e3723a12b9fad1d21d4c82b49629a583944eef56a9d5129465d8068a445769b"
 },
 "nbformat": 3,
 "nbformat_minor": 0,
 "worksheets": [
  {
   "cells": [
    {
     "cell_type": "code",
     "collapsed": false,
     "input": [],
     "language": "python",
     "metadata": {},
     "outputs": []
    },
    {
     "cell_type": "code",
     "collapsed": false,
     "input": [
      "%load_ext cythonmagic"
     ],
     "language": "python",
     "metadata": {},
     "outputs": [
      {
       "output_type": "stream",
       "stream": "stdout",
       "text": [
        "The cythonmagic extension is already loaded. To reload it, use:\n",
        "  %reload_ext cythonmagic\n"
       ]
      }
     ],
     "prompt_number": 167
    },
    {
     "cell_type": "code",
     "collapsed": false,
     "input": [
      "#%%cython\n",
      "#\n",
      "# rectmesh is a class that generates 2d structured nonuniform grids in domains \n",
      "# that can be represented as a combination of rectangulars.\n",
      "#\n",
      "# Possible domain:\n",
      "#       _______        _____\n",
      "#      |      |       |    |\n",
      "#      |      |       |    |           \n",
      "#      |      |_______|    |____\n",
      "#      |        ___            |\n",
      "#      |       |__|            |\n",
      "#      |___                    |\n",
      "#         |         ___        |\n",
      "#         |________|  |________|\n",
      "#\n",
      "#\n",
      "# meshx and meshy are 1d grids. Note that meshx and meshy should include points that correspond to the edges of rectagulars\n",
      "\n",
      "import numpy as np\n",
      "import scipy as sp\n",
      "import scipy.sparse\n",
      "import matplotlib\n",
      "import matplotlib.pyplot as plt\n",
      "\n",
      "class rectmesh:\n",
      "    \n",
      "    def __init__(self, meshx = None, meshy = None, nodes = None):\n",
      "        \n",
      "        self.x = meshx\n",
      "        self.y = meshy\n",
      "        self.mesh_size = [len(meshx), len(meshy)]\n",
      "        \n",
      "        self.nodes = nodes\n",
      "        self.num_nodes = len(nodes)\n",
      "        \n",
      "        self.mask = self.make_mask()\n",
      "        \n",
      "        self.dirichlet_boundary = []\n",
      "        self.neumann_boundary = []\n",
      "        \n",
      "        return\n",
      "    \n",
      "    def make_mask(self): # winding points way\n",
      "        mask = np.ones(self.mesh_size) #sp.sparse.coo_matrix(self.mesh_size)\n",
      "        droptol = 1e-8\n",
      "        \n",
      "        #cdef int i\n",
      "        #cdef int j\n",
      "        #cdef int n\n",
      "        for i in xrange(self.mesh_size[0]):\n",
      "            for j in xrange(self.mesh_size[1]):\n",
      "                ang = 0.\n",
      "                vec = np.zeros((self.num_nodes+1, 2))\n",
      "                #cdef double[:, :] cview = vec\n",
      "                for n in xrange(self.num_nodes):\n",
      "                    vec[n] = np.array([x[self.nodes[n,0]] - self.x[i], y[self.nodes[n,1]] - self.y[j]])\n",
      "                vec[self.num_nodes] = np.array([x[self.nodes[0,0]] - self.x[i], y[self.nodes[0,1]] - self.y[j]])\n",
      "                \n",
      "                for n in xrange(self.num_nodes):\n",
      "                    ang += np.arccos((vec[n].dot(vec[n+1])) / \n",
      "                                     (np.linalg.norm(vec[n])*np.linalg.norm(vec[n+1]))) * np.sign(np.linalg.det([vec[n], vec[n+1]]))\n",
      "                if abs(ang) < droptol:\n",
      "                    mask[i,j] = 0.\n",
      "                    \n",
      "        return mask\n",
      "                    \n",
      "    def add_dirichlet_boundary(self, ind1, ind2, values): #ind1 or ind2 must be of size 1 !\n",
      "        length = max(len(ind1), len(ind2))\n",
      "        self.mask[ind1, ind2] = 10*np.ones(length)\n",
      "        self.dirichlet_boundary.append([ind1, ind2, values])\n",
      "        return\n",
      "        \n",
      "    def add_neumann_boundary(self, ind1, ind2, values):\n",
      "        length = max(len(ind1), len(ind2))\n",
      "        self.mask[ind1, ind2] = 100*np.ones(length)\n",
      "        self.neumann_boundary.append([ind1, ind2, values])\n",
      "        return\n",
      "    \n",
      "    def plot(self):\n",
      "        lines = []\n",
      "        for i in xrange(self.mesh_size[0]-1):\n",
      "            for j in xrange(self.mesh_size[1]-1):\n",
      "                if self.mask[i,j]>0:\n",
      "                    if self.mask[i+1,j] <> 0.:\n",
      "                        lines.append(plt.Line2D((x[i], x[i+1]), (y[j], y[j]), color='k'))\n",
      "                    if self.mask[i,j+1] <> 0.:\n",
      "                        lines.append(plt.Line2D((x[i], x[i]), (y[j], y[j+1]), color='k'))\n",
      "                        \n",
      "        i = self.mesh_size[0] - 1\n",
      "        for j in xrange(self.mesh_size[1]-1):\n",
      "            if self.mask[i,j]>0:\n",
      "                if self.mask[i,j+1] <> 0.:\n",
      "                    lines.append(plt.Line2D((x[i], x[i]), (y[j], y[j+1]), color='k'))\n",
      "                    \n",
      "        j = self.mesh_size[1] - 1\n",
      "        for i in xrange(self.mesh_size[0]-1):\n",
      "            if self.mask[i,j]>0:\n",
      "                if self.mask[i+1,j] <> 0.:\n",
      "                    lines.append(plt.Line2D((x[i], x[i+1]), (y[j], y[j]), color='k'))\n",
      "                    \n",
      "        fig = plt.gcf()\n",
      "        for i in xrange(len(lines)):\n",
      "            fig.gca().add_artist(lines[i])\n",
      "\n",
      "        "
     ],
     "language": "python",
     "metadata": {},
     "outputs": [],
     "prompt_number": 286
    },
    {
     "cell_type": "code",
     "collapsed": false,
     "input": [
      "%pylab inline\n",
      "import numpy as np\n",
      "n = 24\n",
      "#x = np.array([0.,0.3,0.5, 0.6,1.])\n",
      "#y = np.array([0.,0.3,0.4,0.5,0.8, 1.])\n",
      "x = np.linspace(0,1,n)#np.sort(np.random.random(n))\n",
      "y = np.linspace(0,1,n)#np.sort(np.random.random(n))\n",
      "#x = np.sort(np.random.random(n))\n",
      "#y = np.sort(np.random.random(n))\n",
      "nodes = np.array([[0, 0], \n",
      "                  [0, n-1], \n",
      "                  [n/4, n-1], \n",
      "                  [n/4,n/2-1], \n",
      "                  [3*n/4, n/2-1], \n",
      "                  [3*n/4, n-1], \n",
      "                  [n-1, n-1], \n",
      "                  [n-1, n/4],\n",
      "                  [3*n/4, n/4],\n",
      "                  [3*n/4, 0]])\n",
      "\n",
      "a = rectmesh(x,y,nodes)\n",
      "\n",
      "a.add_dirichlet_boundary(range(n), [0], 1)\n",
      "a.add_neumann_boundary( [0], range(1,n-1), 1)\n",
      "a.plot()"
     ],
     "language": "python",
     "metadata": {},
     "outputs": [
      {
       "output_type": "stream",
       "stream": "stdout",
       "text": [
        "Populating the interactive namespace from numpy and matplotlib\n"
       ]
      },
      {
       "metadata": {},
       "output_type": "display_data",
       "png": "[encoded data removed]",
       "text": [
        "<matplotlib.figure.Figure at 0x114310c90>"
       ]
      }
     ],
     "prompt_number": 292
    },
    {
     "cell_type": "code",
     "collapsed": false,
     "input": [
      "print x,y"
     ],
     "language": "python",
     "metadata": {},
     "outputs": [
      {
       "output_type": "stream",
       "stream": "stdout",
       "text": [
        "[ 0.02715792  0.2769721   0.32940018  0.33118422  0.51716031  0.58312767\n",
        "  0.63778105  0.7507355   0.7769688   0.83446274  0.8581304   0.94720252] [ 0.00834901  0.15823501  0.33313741  0.34175842  0.35901946  0.37818743\n",
        "  0.45961762  0.47739863  0.52230333  0.69347479  0.82845461  0.96475574]\n"
       ]
      }
     ],
     "prompt_number": 280
    },
    {
     "cell_type": "code",
     "collapsed": false,
     "input": [
      "print 1e-18/2e-18"
     ],
     "language": "python",
     "metadata": {},
     "outputs": [
      {
       "output_type": "stream",
       "stream": "stdout",
       "text": [
        "0.5\n"
       ]
      }
     ],
     "prompt_number": 108
    },
    {
     "cell_type": "code",
     "collapsed": false,
     "input": [
      "arr = np.array([1,2])\n",
      "arr"
     ],
     "language": "python",
     "metadata": {},
     "outputs": [
      {
       "metadata": {},
       "output_type": "pyout",
       "prompt_number": 113,
       "text": [
        "array([1, 2])"
       ]
      }
     ],
     "prompt_number": 113
    },
    {
     "cell_type": "code",
     "collapsed": false,
     "input": [
      "len([1])"
     ],
     "language": "python",
     "metadata": {},
     "outputs": [
      {
       "metadata": {},
       "output_type": "pyout",
       "prompt_number": 121,
       "text": [
        "1"
       ]
      }
     ],
     "prompt_number": 121
    },
    {
     "cell_type": "code",
     "collapsed": false,
     "input": [
      "a.mask[n/2:,[n/2]]"
     ],
     "language": "python",
     "metadata": {},
     "outputs": [
      {
       "metadata": {},
       "output_type": "pyout",
       "prompt_number": 130,
       "text": [
        "array([[ 0.],\n",
        "       [ 0.],\n",
        "       [ 0.],\n",
        "       [ 0.],\n",
        "       [ 1.],\n",
        "       [ 1.],\n",
        "       [ 1.],\n",
        "       [ 1.]])"
       ]
      }
     ],
     "prompt_number": 130
    },
    {
     "cell_type": "code",
     "collapsed": false,
     "input": [
      "import matplotlib.pyplot as plt\n",
      "circle1=plt.Circle((0,0),.2,color='r')\n",
      "circle2=plt.Line2D((.5,.6), (.5,.6), color='k') #linewidth = .5,\n",
      "circle3=plt.Circle((1,1),.2,color='g',clip_on=False)\n",
      "fig = plt.gcf()\n",
      "fig.gca().add_artist(circle1)\n",
      "fig.gca().add_artist(circle2)\n",
      "fig.gca().add_artist(circle3)"
     ],
     "language": "python",
     "metadata": {},
     "outputs": [
      {
       "metadata": {},
       "output_type": "pyout",
       "prompt_number": 237,
       "text": [
        "<matplotlib.patches.Circle at 0x11201e350>"
       ]
      },
      {
       "metadata": {},
       "output_type": "display_data",
       "png": "[encoded data removed]",
       "text": [
        "<matplotlib.figure.Figure at 0x112014ad0>"
       ]
      }
     ],
     "prompt_number": 237
    },
    {
     "cell_type": "code",
     "collapsed": false,
     "input": [],
     "language": "python",
     "metadata": {},
     "outputs": []
    }
   ],
   "metadata": {}
  }
 ]
}