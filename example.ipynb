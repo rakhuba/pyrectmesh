{
 "metadata": {
  "name": "",
  "signature": "sha256:4a43d902212b359bb4734781a1097716b0b202b1070a395e57239d7803788a5f"
 },
 "nbformat": 3,
 "nbformat_minor": 0,
 "worksheets": [
  {
   "cells": [
    {
     "cell_type": "code",
     "collapsed": false,
     "input": [
      "import rectmesh\n",
      "\n",
      "import numpy as np\n",
      "import scipy as sp\n",
      "import scipy.sparse\n",
      "import scipy.sparse.linalg\n",
      "import matplotlib.pyplot as plt"
     ],
     "language": "python",
     "metadata": {},
     "outputs": [
      {
       "output_type": "stream",
       "stream": "stderr",
       "text": [
        "Vendor:  Continuum Analytics, Inc.\n",
        "Package: mkl\n",
        "Message: trial mode expires in 30 days\n"
       ]
      }
     ],
     "prompt_number": 1
    },
    {
     "cell_type": "code",
     "collapsed": false,
     "input": [
      "%matplotlib inline\n",
      "import numpy as np\n",
      "n1 = 100\n",
      "n2 = 100\n",
      "#x = np.array([0.,0.3,0.5, 0.6,1.])\n",
      "#y = np.array([0.,0.3,0.4,0.5,0.8, 1.])\n",
      "x = np.linspace(0,1,n1)#np.sort(np.random.random(n))\n",
      "y = np.linspace(0,1,n2)#np.sort(np.random.random(n))\n",
      "#x = np.sort(np.random.random(n))\n",
      "#y = np.sort(np.random.random(n))\n",
      "nodes = np.array([[0, 0], \n",
      "                   [0, n2-1], \n",
      "                   [n1/2 - 1, n2-1], \n",
      "                   [n1/2 - 1,n2/2-1], \n",
      "                   [n1 - 1, n2/2-1],\n",
      "                   [n1-1, 0],\n",
      "                   [0, 0]])\n",
      "\n",
      "boundary = [['N', 1], ['D', 1], ['D', 1], ['D', 1], ['D', 1], ['D', 1]]\n",
      "#nodes = np.array([[0,0], [0,n2-1], [n1-1,n2-1], [n1-1,0]])\n",
      "\n",
      "a = rectmesh.rectmesh(meshx = x, meshy = y, nodes = nodes, boundary = boundary)\n",
      "\n",
      "#a.add_dirichlet_boundary(range(n1), [0], 1)\n",
      "#a.add_dirichlet_boundary([n1 - 1], range(1, n2/2), 1)\n",
      "#a.add_dirichlet_boundary(range(n1/2-1, n1-1), [n2/2 - 1], 1)\n",
      "#a.add_dirichlet_boundary([n1/2 - 1], range(n2/2, n2), 1)\n",
      "#a.add_dirichlet_boundary(range(0,n1/2-1), [n2 - 1], 1)\n",
      "#a.add_dirichlet_boundary([0], range(1,n2-1), 1)\n",
      "\n",
      "a.create_boundary()\n",
      "\n",
      "a.create_order()\n",
      "#a.plot() # VERY SLOW!!!\n",
      "a.mask"
     ],
     "language": "python",
     "metadata": {},
     "outputs": [
      {
       "metadata": {},
       "output_type": "pyout",
       "prompt_number": 42,
       "text": [
        "array([[ 2.,  3.,  3., ...,  3.,  3.,  2.],\n",
        "       [ 2.,  1.,  1., ...,  1.,  1.,  2.],\n",
        "       [ 2.,  1.,  1., ...,  1.,  1.,  2.],\n",
        "       ..., \n",
        "       [ 2.,  1.,  1., ...,  0.,  0.,  0.],\n",
        "       [ 2.,  1.,  1., ...,  0.,  0.,  0.],\n",
        "       [ 2.,  2.,  2., ...,  0.,  0.,  0.]])"
       ]
      }
     ],
     "prompt_number": 42
    },
    {
     "cell_type": "code",
     "collapsed": false,
     "input": [
      "# Solving \\Delta u = f\n",
      "def build_system(mesh, rhs):\n",
      "    A = sp.sparse.lil_matrix((mesh.mask_nnz, mesh.mask_nnz))\n",
      "    x = mesh.x\n",
      "    y = mesh.y\n",
      "    order = mesh.order\n",
      "    order_inv = dict((v,k) for k, v in order.iteritems())\n",
      "    f = np.zeros(mesh.mask_nnz)\n",
      "\n",
      "    #dx_f = x[1:mesh.size[0]-1] - x[:mesh.size[0]-2]\n",
      "    \n",
      "    for k in xrange(mesh.num_inside):\n",
      "        [i,j] = order_inv[k]\n",
      "        \n",
      "        dx_f = x[i + 1] - x[i]\n",
      "        dx_b = x[i] - x[i - 1]\n",
      "        dx_c = x[i + 1] - x[i - 1]\n",
      "        \n",
      "        dy_f = y[j + 1] - y[j]\n",
      "        dy_b = y[j] - y[j - 1]\n",
      "        dy_c = y[j + 1] - y[j - 1]\n",
      "        \n",
      "        k_if_jc = order[(i+1, j)]\n",
      "        k_ib_jc = order[(i-1, j)]\n",
      "        k_ic_jf = order[(i, j+1)]\n",
      "        k_ic_jb = order[(i, j-1)]\n",
      "        \n",
      "        A[k, k] = -2./dx_f/dx_b - 2./dy_f/dy_b\n",
      "        A[k, k_if_jc] = 2./dx_f/dx_c\n",
      "        A[k, k_ib_jc] = 2./dx_b/dx_c\n",
      "        A[k, k_ic_jf] = 2./dy_f/dy_c\n",
      "        A[k, k_ic_jb] =  2./dy_b/dy_c\n",
      "        \n",
      "        f[k] = rhs[i,j]\n",
      "        \n",
      "    mask_ext = np.zeros((mesh.mesh_size[0]+2, mesh.mesh_size[1]+2))\n",
      "    mask_ext[1:mesh.mesh_size[0]+1, 1:mesh.mesh_size[1]+1] = mesh.mask\n",
      "    \n",
      "    for k in xrange(mesh.num_inside, mesh.num_inside + mesh.num_neumann):\n",
      "        \n",
      "        [i,j] = order_inv[k]   \n",
      "        m_if = mask_ext[i+2, j+1]\n",
      "        m_ib = mask_ext[i, j+1]\n",
      "        m_jf = mask_ext[i+1, j+2]\n",
      "        m_jb = mask_ext[i+1, j]\n",
      "        \n",
      "        if mask_ext[i+1, j+1] == 3.:\n",
      "        \n",
      "            if m_ib==0:\n",
      "\n",
      "                dx_f = x[i + 1] - x[i]\n",
      "\n",
      "                dy_f = y[j + 1] - y[j]\n",
      "                dy_b = y[j] - y[j - 1]\n",
      "                dy_c = y[j + 1] - y[j - 1]\n",
      "\n",
      "                k_if_jc = order[(i+1, j)]\n",
      "                k_ic_jf = order[(i, j+1)]\n",
      "                k_ic_jb = order[(i, j-1)]\n",
      "\n",
      "                A[k, k] = -2./dx_f**2 - 2./dy_f/dy_b\n",
      "                A[k, k_if_jc] = 2./dx_f**2\n",
      "                A[k, k_ic_jf] = 2./dy_f/dy_c\n",
      "                A[k, k_ic_jb] =  2./dy_b/dy_c\n",
      "\n",
      "                f[k] = rhs[i,j]\n",
      "\n",
      "            elif m_if==0:\n",
      "\n",
      "                dx_b = x[i] - x[i - 1]\n",
      "\n",
      "                dy_f = y[j + 1] - y[j]\n",
      "                dy_b = y[j] - y[j - 1]\n",
      "                dy_c = y[j + 1] - y[j - 1]\n",
      "\n",
      "                k_ib_jc = order[(i-1, j)]\n",
      "                k_ic_jf = order[(i, j+1)]\n",
      "                k_ic_jb = order[(i, j-1)]\n",
      "\n",
      "                A[k, k] = -2./dx_b**2 - 2./dy_f/dy_b\n",
      "                A[k, k_ib_jc] = 2./dx_b**2\n",
      "                A[k, k_ic_jf] = 2./dy_f/dy_c\n",
      "                A[k, k_ic_jb] =  2./dy_b/dy_c\n",
      "\n",
      "                f[k] = rhs[i,j]\n",
      "\n",
      "            elif m_jb==0:\n",
      "\n",
      "                dx_f = x[i + 1] - x[i]\n",
      "                dx_b = x[i] - x[i - 1]\n",
      "                dx_c = x[i + 1] - x[i - 1]\n",
      "\n",
      "                dy_f = y[j + 1] - y[j]\n",
      "\n",
      "                k_if_jc = order[(i+1, j)]\n",
      "                k_ib_jc = order[(i-1, j)]\n",
      "                k_ic_jf = order[(i, j+1)]\n",
      "\n",
      "                A[k, k] = -2./dx_f/dx_b - 2./dy_f**2\n",
      "                A[k, k_if_jc] = 2./dx_f/dx_c\n",
      "                A[k, k_ib_jc] = 2./dx_b/dx_c\n",
      "                A[k, k_ic_jf] = 2./dy_f**2\n",
      "\n",
      "                f[k] = rhs[i,j]\n",
      "\n",
      "            elif m_jf==0:\n",
      "\n",
      "                dx_f = x[i + 1] - x[i]\n",
      "                dx_b = x[i] - x[i - 1]\n",
      "                dx_c = x[i + 1] - x[i - 1]\n",
      "\n",
      "                dy_b = y[j] - y[j - 1]\n",
      "\n",
      "                k_if_jc = order[(i+1, j)]\n",
      "                k_ib_jc = order[(i-1, j)]\n",
      "                k_ic_jb = order[(i, j-1)]\n",
      "\n",
      "                A[k, k] = -2./dx_f/dx_b - 2./dy_b**2\n",
      "                A[k, k_if_jc] = 2./dx_f/dx_c\n",
      "                A[k, k_ib_jc] = 2./dx_b/dx_c\n",
      "                A[k, k_ic_jb] =  2./dy_b**2\n",
      "\n",
      "                f[k] = rhs[i,j]\n",
      "\n",
      "            else:\n",
      "                raise Exception('Problems with mask')\n",
      "        \n",
      "        \n",
      "        elif mask_ext[i+1, j+1] == 4.:\n",
      "        \n",
      "            if m_ib == 0 and m_jb == 0:\n",
      "\n",
      "                dx_f = x[i + 1] - x[i]\n",
      "                dy_f = y[j + 1] - y[j]\n",
      "\n",
      "\n",
      "                k_if_jc = order[(i+1, j)]\n",
      "                k_ic_jf = order[(i, j+1)]\n",
      "\n",
      "                A[k, k] = -2./dx_f**2 - 2./dy_f**2\n",
      "                A[k, k_if_jc] = 2./dx_f**2\n",
      "                A[k, k_ic_jf] = 2./dy_f**2\n",
      "\n",
      "                f[k] = rhs[i,j]\n",
      "\n",
      "            elif m_if == 0 and m_jb == 0:\n",
      "\n",
      "                dx_b = x[i] - x[i - 1]\n",
      "                dy_f = y[j + 1] - y[j]\n",
      "\n",
      "                k_ib_jc = order[(i-1, j)]\n",
      "                k_ic_jf = order[(i, j+1)]\n",
      "\n",
      "                A[k, k] = -2./dx_b**2 - 2./dy_f**2\n",
      "                A[k, k_ib_jc] = 2./dx_b**2\n",
      "                A[k, k_ic_jf] = 2./dy_f**2\n",
      "\n",
      "                f[k] = rhs[i,j]\n",
      "\n",
      "            elif m_ib == 0 and m_jf == 0:\n",
      "\n",
      "                dx_b = x[i] - x[i - 1]\n",
      "                dy_f = y[j + 1] - y[j]\n",
      "\n",
      "                k_ib_jc = order[(i-1, j)]\n",
      "                k_ic_jf = order[(i, j+1)]\n",
      "\n",
      "                A[k, k] = -2./dx_b**2 - 2./dy_f**2\n",
      "                A[k, k_ib_jc] = 2./dx_b**2\n",
      "                A[k, k_ic_jf] = 2./dy_f**2\n",
      "\n",
      "                f[k] = rhs[i,j]\n",
      "\n",
      "            elif m_if == 0 and m_jf == 0:\n",
      "\n",
      "                dx_b = x[i] - x[i - 1]\n",
      "                dy_b = y[j] - y[j - 1]\n",
      "\n",
      "                k_ib_jc = order[(i-1, j)]\n",
      "                k_ic_jb = order[(i, j-1)]\n",
      "\n",
      "                A[k, k] = -2./dx_b**2 - 2./dy_b**2\n",
      "                A[k, k_ib_jc] = 2./dx_b**2\n",
      "                A[k, k_ic_jb] =  2./dy_b**2\n",
      "\n",
      "                f[k] = rhs[i,j]\n",
      "\n",
      "            else:\n",
      "                raise Exception('Problems with mask')\n",
      "                \n",
      "        else:\n",
      "            raise Exception('Problems with mask')\n",
      "            \n",
      "            \n",
      "    for k in xrange(mesh.num_inside + mesh.num_neumann, mesh.num_inside + mesh.num_neumann + mesh.num_dirichlet): \n",
      "        A[k,k] = 1.\n",
      "        f[k] = mesh.dirichlet_values[k]\n",
      "        \n",
      "        \n",
      "    return A, f\n",
      "\n",
      "\n",
      "def tomeshorder(mesh, sol):\n",
      "    \n",
      "    size = mesh.mesh_size\n",
      "    sol2mesh = np.zeros(size)\n",
      "    for i in xrange(size[0]):\n",
      "        for j in xrange(size[1]):\n",
      "            try:\n",
      "                sol2mesh[i, j] = sol[mesh.order[i,j]]\n",
      "            except:\n",
      "                sol2mesh[i, j] = 0.\n",
      "    \n",
      "    return sol2mesh"
     ],
     "language": "python",
     "metadata": {},
     "outputs": [],
     "prompt_number": 43
    },
    {
     "cell_type": "code",
     "collapsed": false,
     "input": [
      "# Testing on [0, pi]x[0, pi] square with solution sin x cos y + 1\n",
      "Y, X = np.meshgrid(x,y)\n",
      "rhs = np.zeros((len(y), len(x)))#- 2*np.sin(X)* np.cos(Y)\n",
      "rhs[:, len(y)/4] = -len(x)**2\n",
      "A, f = build_system(a, rhs.T)\n",
      "A = A.tocsc()"
     ],
     "language": "python",
     "metadata": {},
     "outputs": [],
     "prompt_number": 44
    },
    {
     "cell_type": "code",
     "collapsed": false,
     "input": [
      "lu = sp.sparse.linalg.splu(A)\n",
      "sol = lu.solve(f)"
     ],
     "language": "python",
     "metadata": {},
     "outputs": [],
     "prompt_number": 45
    },
    {
     "cell_type": "code",
     "collapsed": false,
     "input": [
      "sol2mesh = tomeshorder(a,sol)"
     ],
     "language": "python",
     "metadata": {},
     "outputs": [],
     "prompt_number": 46
    },
    {
     "cell_type": "code",
     "collapsed": false,
     "input": [
      "plt.imshow(sol2mesh)\n",
      "plt.colorbar()"
     ],
     "language": "python",
     "metadata": {},
     "outputs": [
      {
       "metadata": {},
       "output_type": "pyout",
       "prompt_number": 47,
       "text": [
        "<matplotlib.colorbar.Colorbar instance at 0x113a48710>"
       ]
      },
      {
       "metadata": {},
       "output_type": "display_data",
       "png": "[encoded data removed]",
       "text": [
        "<matplotlib.figure.Figure at 0x1138040d0>"
       ]
      }
     ],
     "prompt_number": 47
    },
    {
     "cell_type": "code",
     "collapsed": false,
     "input": [
      "sol_exact = np.sin(X)* np.cos(Y) + 1\n",
      "np.linalg.norm(sol_exact.T - sol2mesh)/np.linalg.norm(sol_exact)"
     ],
     "language": "python",
     "metadata": {},
     "outputs": [
      {
       "metadata": {},
       "output_type": "pyout",
       "prompt_number": 32,
       "text": [
        "2.7541812751898105"
       ]
      }
     ],
     "prompt_number": 32
    },
    {
     "cell_type": "code",
     "collapsed": false,
     "input": [
      "np.sign(1)"
     ],
     "language": "python",
     "metadata": {},
     "outputs": [
      {
       "metadata": {},
       "output_type": "pyout",
       "prompt_number": 6,
       "text": [
        "1"
       ]
      }
     ],
     "prompt_number": 6
    },
    {
     "cell_type": "code",
     "collapsed": false,
     "input": [
      "ind = range(1)\n",
      "ind[-1:]"
     ],
     "language": "python",
     "metadata": {},
     "outputs": [
      {
       "metadata": {},
       "output_type": "pyout",
       "prompt_number": 12,
       "text": [
        "[0]"
       ]
      }
     ],
     "prompt_number": 12
    },
    {
     "cell_type": "code",
     "collapsed": false,
     "input": [
      "(1,1)+1"
     ],
     "language": "python",
     "metadata": {},
     "outputs": [
      {
       "ename": "TypeError",
       "evalue": "can only concatenate tuple (not \"int\") to tuple",
       "output_type": "pyerr",
       "traceback": [
        "\u001b[0;31m---------------------------------------------------------------------------\u001b[0m\n\u001b[0;31mTypeError\u001b[0m                                 Traceback (most recent call last)",
        "\u001b[0;32m<ipython-input-1-d5d3f9df7396>\u001b[0m in \u001b[0;36m<module>\u001b[0;34m()\u001b[0m\n\u001b[0;32m----> 1\u001b[0;31m \u001b[0;34m(\u001b[0m\u001b[0;36m1\u001b[0m\u001b[0;34m,\u001b[0m\u001b[0;36m1\u001b[0m\u001b[0;34m)\u001b[0m\u001b[0;34m+\u001b[0m\u001b[0;36m1\u001b[0m\u001b[0;34m\u001b[0m\u001b[0m\n\u001b[0m",
        "\u001b[0;31mTypeError\u001b[0m: can only concatenate tuple (not \"int\") to tuple"
       ]
      }
     ],
     "prompt_number": 1
    },
    {
     "cell_type": "code",
     "collapsed": false,
     "input": [],
     "language": "python",
     "metadata": {},
     "outputs": []
    }
   ],
   "metadata": {}
  }
 ]
}