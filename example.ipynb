{
 "metadata": {
  "name": "",
  "signature": "sha256:a5988d3b07846b63e4a3ba0ac916d545b04a5907a2d2b5a64c9d13d9b6dacd2a"
 },
 "nbformat": 3,
 "nbformat_minor": 0,
 "worksheets": [
  {
   "cells": [
    {
     "cell_type": "code",
     "collapsed": false,
     "input": [
      "import rectmesh\n",
      "\n",
      "import numpy as np\n",
      "import scipy as sp\n",
      "import scipy.sparse\n",
      "import scipy.sparse.linalg\n"
     ],
     "language": "python",
     "metadata": {},
     "outputs": [
      {
       "output_type": "stream",
       "stream": "stderr",
       "text": [
        "Vendor:  Continuum Analytics, Inc.\n",
        "Package: mkl\n",
        "Message: trial mode expires in 27 days\n"
       ]
      }
     ],
     "prompt_number": 1
    },
    {
     "cell_type": "code",
     "collapsed": false,
     "input": [
      "%pylab inline\n",
      "import numpy as np\n",
      "n1 = 1000\n",
      "n2 = 1000\n",
      "#x = np.array([0.,0.3,0.5, 0.6,1.])\n",
      "#y = np.array([0.,0.3,0.4,0.5,0.8, 1.])\n",
      "x = np.linspace(0,np.pi,n1)#np.sort(np.random.random(n))\n",
      "y = np.linspace(0,np.pi,n2)#np.sort(np.random.random(n))\n",
      "#x = np.sort(np.random.random(n))\n",
      "#y = np.sort(np.random.random(n))\n",
      "# nodes = np.array([[0, 0], \n",
      "#                   [0, n-1], \n",
      "#                   [n/4, n-1], \n",
      "#                   [n/4,n/2-1], \n",
      "#                   [3*n/4, n/2-1], \n",
      "#                   [3*n/4, n-1], \n",
      "#                   [n-1, n-1], \n",
      "#                   [n-1, n/4],\n",
      "#                   [3*n/4, n/4],\n",
      "#                   [3*n/4, 0]])\n",
      "\n",
      "nodes = np.array([[0,0], [0,n2-1], [n1-1,n2-1], [n1-1,0]])\n",
      "\n",
      "a = rectmesh.rectmesh(meshx = x, meshy = y, nodes = nodes)\n",
      "\n",
      "a.add_dirichlet_boundary(range(n1), [0], 1)\n",
      "a.add_dirichlet_boundary(range(n1), [n2-1], 1)\n",
      "a.add_neumann_boundary( [0], range(1,n2-1), 0)\n",
      "a.add_neumann_boundary( [n1-1], range(1,n2-1), 0)\n",
      "\n",
      "a.create_order()\n",
      "#a.mask\n",
      "#a.plot()"
     ],
     "language": "python",
     "metadata": {},
     "outputs": [
      {
       "output_type": "stream",
       "stream": "stdout",
       "text": [
        "Populating the interactive namespace from numpy and matplotlib\n"
       ]
      }
     ],
     "prompt_number": 7
    },
    {
     "cell_type": "code",
     "collapsed": false,
     "input": [
      "# Solving \\Delta u = f\n",
      "def build_system(mesh, rhs):\n",
      "    A = sp.sparse.lil_matrix((mesh.mask_nnz, mesh.mask_nnz))\n",
      "    x = mesh.x\n",
      "    y = mesh.y\n",
      "    order = mesh.order\n",
      "    order_inv = dict((v,k) for k, v in order.iteritems())\n",
      "    f = np.zeros(mesh.mask_nnz)\n",
      "\n",
      "    #dx_f = x[1:mesh.size[0]-1] - x[:mesh.size[0]-2]\n",
      "    \n",
      "    for k in xrange(mesh.num_inside):\n",
      "        [i,j] = order_inv[k]\n",
      "        \n",
      "        dx_f = x[i + 1] - x[i]\n",
      "        dx_b = x[i] - x[i - 1]\n",
      "        dx_c = x[i + 1] - x[i - 1]\n",
      "        \n",
      "        dy_f = y[j + 1] - y[j]\n",
      "        dy_b = y[j] - y[j - 1]\n",
      "        dy_c = y[j + 1] - y[j - 1]\n",
      "        \n",
      "        k_if_jc = order[(i+1, j)]\n",
      "        k_ib_jc = order[(i-1, j)]\n",
      "        k_ic_jf = order[(i, j+1)]\n",
      "        k_ic_jb = order[(i, j-1)]\n",
      "        \n",
      "        A[k, k] = -2./dx_f/dx_b - 2./dy_f/dy_b\n",
      "        A[k, k_if_jc] = 2./dx_f/dx_c\n",
      "        A[k, k_ib_jc] = 2./dx_b/dx_c\n",
      "        A[k, k_ic_jf] = 2./dy_f/dy_c\n",
      "        A[k, k_ic_jb] =  2./dy_b/dy_c\n",
      "        \n",
      "        f[k] = rhs[i,j]\n",
      "        \n",
      "    mask_ext = np.zeros((mesh.mesh_size[0]+2, mesh.mesh_size[1]+2))\n",
      "    mask_ext[1:mesh.mesh_size[0]+1, 1:mesh.mesh_size[1]+1] = mesh.mask\n",
      "    \n",
      "    for k in xrange(mesh.num_inside, mesh.num_inside + mesh.num_neumann):\n",
      "        \n",
      "        [i,j] = order_inv[k]   \n",
      "        m_if = mask_ext[i+2, j+1]\n",
      "        m_ib = mask_ext[i, j+1]\n",
      "        m_jf = mask_ext[i+1, j+2]\n",
      "        m_jb = mask_ext[i+1, j]\n",
      "        \n",
      "        if m_ib==0:\n",
      "            \n",
      "            dx_f = x[i + 1] - x[i]\n",
      "        \n",
      "            dy_f = y[j + 1] - y[j]\n",
      "            dy_b = y[j] - y[j - 1]\n",
      "            dy_c = y[j + 1] - y[j - 1]\n",
      "                \n",
      "            k_if_jc = order[(i+1, j)]\n",
      "            k_ic_jf = order[(i, j+1)]\n",
      "            k_ic_jb = order[(i, j-1)]\n",
      "        \n",
      "            A[k, k] = -2./dx_f**2 - 2./dy_f/dy_b\n",
      "            A[k, k_if_jc] = 2./dx_f**2\n",
      "            A[k, k_ic_jf] = 2./dy_f/dy_c\n",
      "            A[k, k_ic_jb] =  2./dy_b/dy_c\n",
      "            \n",
      "            f[k] = rhs[i,j]\n",
      "            \n",
      "        elif m_if==0:\n",
      "            \n",
      "            dx_b = x[i] - x[i - 1]\n",
      "        \n",
      "            dy_f = y[j + 1] - y[j]\n",
      "            dy_b = y[j] - y[j - 1]\n",
      "            dy_c = y[j + 1] - y[j - 1]\n",
      "        \n",
      "            k_ib_jc = order[(i-1, j)]\n",
      "            k_ic_jf = order[(i, j+1)]\n",
      "            k_ic_jb = order[(i, j-1)]\n",
      "        \n",
      "            A[k, k] = -2./dx_b**2 - 2./dy_f/dy_b\n",
      "            A[k, k_ib_jc] = 2./dx_b**2\n",
      "            A[k, k_ic_jf] = 2./dy_f/dy_c\n",
      "            A[k, k_ic_jb] =  2./dy_b/dy_c\n",
      "        \n",
      "            f[k] = rhs[i,j]\n",
      "            \n",
      "        elif m_jb==0:\n",
      "            \n",
      "            dx_f = x[i + 1] - x[i]\n",
      "            dx_b = x[i] - x[i - 1]\n",
      "            dx_c = x[i + 1] - x[i - 1]\n",
      "        \n",
      "            dy_f = y[j + 1] - y[j]\n",
      "        \n",
      "            k_if_jc = order[(i+1, j)]\n",
      "            k_ib_jc = order[(i-1, j)]\n",
      "            k_ic_jf = order[(i, j+1)]\n",
      "        \n",
      "            A[k, k] = -2./dx_f/dx_b - 2./dy_f**2\n",
      "            A[k, k_if_jc] = 2./dx_f/dx_c\n",
      "            A[k, k_ib_jc] = 2./dx_b/dx_c\n",
      "            A[k, k_ic_jf] = 2./dy_f**2\n",
      "        \n",
      "            f[k] = rhs[i,j]\n",
      "            \n",
      "        elif m_jf==0:\n",
      "            \n",
      "            dx_f = x[i + 1] - x[i]\n",
      "            dx_b = x[i] - x[i - 1]\n",
      "            dx_c = x[i + 1] - x[i - 1]\n",
      "        \n",
      "            dy_b = y[j] - y[j - 1]\n",
      "        \n",
      "            k_if_jc = order[(i+1, j)]\n",
      "            k_ib_jc = order[(i-1, j)]\n",
      "            k_ic_jb = order[(i, j-1)]\n",
      "        \n",
      "            A[k, k] = -2./dx_f/dx_b - 2./dy_b**2\n",
      "            A[k, k_if_jc] = 2./dx_f/dx_c\n",
      "            A[k, k_ib_jc] = 2./dx_b/dx_c\n",
      "            A[k, k_ic_jb] =  2./dy_b**2\n",
      "        \n",
      "            f[k] = rhs[i,j]\n",
      "            \n",
      "        else:\n",
      "            raise Exception('Problems with mask')\n",
      "        \n",
      "    \n",
      "    for k in xrange(mesh.num_inside + mesh.num_neumann, mesh.num_inside + mesh.num_neumann + mesh.num_dirichlet): \n",
      "        A[k,k] = 1.\n",
      "        f[k] = mesh.dirichlet_values[k]\n",
      "        \n",
      "        \n",
      "    return A, f\n",
      "\n",
      "\n",
      "def tomeshorder(mesh, sol):\n",
      "    \n",
      "    size = mesh.mesh_size\n",
      "    sol2mesh = np.zeros(size)\n",
      "    \n",
      "    for i in xrange(size[0]):\n",
      "        for j in xrange(size[1]):\n",
      "            sol2mesh[i, j] = sol[mesh.order[i,j]]\n",
      "    \n",
      "    return sol2mesh"
     ],
     "language": "python",
     "metadata": {},
     "outputs": [],
     "prompt_number": 3
    },
    {
     "cell_type": "code",
     "collapsed": false,
     "input": [
      "# Testing on [0, pi]x[0, pi] square with solution sin x cos y + 1\n",
      "Y, X = np.meshgrid(x,y)\n",
      "rhs = - 2*np.sin(X)* np.cos(Y)\n",
      "\n",
      "A, f = build_system(a, rhs.T)\n",
      "A = A.tocsc()"
     ],
     "language": "python",
     "metadata": {},
     "outputs": [],
     "prompt_number": 4
    },
    {
     "cell_type": "code",
     "collapsed": false,
     "input": [
      "lu = sp.sparse.linalg.splu(A)\n",
      "sol = lu.solve(f)"
     ],
     "language": "python",
     "metadata": {},
     "outputs": [],
     "prompt_number": 5
    },
    {
     "cell_type": "code",
     "collapsed": false,
     "input": [
      "sol2mesh = tomeshorder(a,sol)"
     ],
     "language": "python",
     "metadata": {},
     "outputs": [],
     "prompt_number": 6
    },
    {
     "cell_type": "code",
     "collapsed": false,
     "input": [
      "plt.imshow(sol2mesh)\n",
      "plt.colorbar()"
     ],
     "language": "python",
     "metadata": {},
     "outputs": [
      {
       "metadata": {},
       "output_type": "pyout",
       "prompt_number": 7,
       "text": [
        "<matplotlib.colorbar.Colorbar instance at 0x10f81d3b0>"
       ]
      },
      {
       "metadata": {},
       "output_type": "display_data",
       "png": "[encoded data removed]",
       "text": [
        "<matplotlib.figure.Figure at 0x10ce514d0>"
       ]
      }
     ],
     "prompt_number": 7
    },
    {
     "cell_type": "code",
     "collapsed": false,
     "input": [
      "sol_exact = np.sin(X)* np.cos(Y) + 1\n",
      "np.linalg.norm(sol_exact.T - sol2mesh)/np.linalg.norm(sol_exact)"
     ],
     "language": "python",
     "metadata": {},
     "outputs": [
      {
       "metadata": {},
       "output_type": "pyout",
       "prompt_number": 8,
       "text": [
        "0.00015320082347421862"
       ]
      }
     ],
     "prompt_number": 8
    }
   ],
   "metadata": {}
  }
 ]
}